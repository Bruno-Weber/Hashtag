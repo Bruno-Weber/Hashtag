{
  "cells": [
    {
      "cell_type": "markdown",
      "metadata": {
        "id": "wNYuVbZ-fgJy"
      },
      "source": [
        "# Exercícios\n",
        "\n",
        "## 1. Faturamento do Melhor e do Pior Mês do Ano\n",
        "\n",
        "Qual foi o valor de vendas do melhor mês do Ano?\n",
        "E valor do pior mês do ano?"
      ]
    },
    {
      "cell_type": "code",
      "execution_count": null,
      "metadata": {
        "id": "VuDWBsHAfgJ0"
      },
      "outputs": [],
      "source": [
        "meses = ['jan', 'fev', 'mar', 'abr', 'mai', 'jun', 'jul', 'ago', 'set', 'out', 'nov', 'dez']\n",
        "vendas_1sem = [25000, 29000, 22200, 17750, 15870, 19900]\n",
        "vendas_2sem = [19850, 20120, 17540, 15555, 49051, 9650]"
      ]
    },
    {
      "cell_type": "code",
      "source": [
        "vendas_total = vendas_1sem + vendas_2sem\n",
        "\n",
        "print(vendas_total)"
      ],
      "metadata": {
        "colab": {
          "base_uri": "https://localhost:8080/"
        },
        "id": "_YivvIeTmR5-",
        "outputId": "40c615c1-5c33-453d-83fa-8d1782bcc443"
      },
      "execution_count": null,
      "outputs": [
        {
          "output_type": "stream",
          "name": "stdout",
          "text": [
            "[25000, 29000, 22200, 17750, 15870, 19900, 19850, 20120, 17540, 15555, 49051, 9650]\n"
          ]
        }
      ]
    },
    {
      "cell_type": "code",
      "source": [
        "maior_valor = max(vendas_total)\n",
        "\n",
        "print(maior_valor)"
      ],
      "metadata": {
        "colab": {
          "base_uri": "https://localhost:8080/"
        },
        "id": "BZDAytPkmdoJ",
        "outputId": "94190d92-9717-44b5-e9af-83119e70a75a"
      },
      "execution_count": null,
      "outputs": [
        {
          "output_type": "stream",
          "name": "stdout",
          "text": [
            "49051\n"
          ]
        }
      ]
    },
    {
      "cell_type": "code",
      "source": [
        "valor_minim = min(vendas_total)\n",
        "\n",
        "print(valor_minim)"
      ],
      "metadata": {
        "colab": {
          "base_uri": "https://localhost:8080/"
        },
        "id": "6HYzw686n0QY",
        "outputId": "f1c54cc6-a98d-440e-b5d2-3e1df3adb83e"
      },
      "execution_count": null,
      "outputs": [
        {
          "output_type": "stream",
          "name": "stdout",
          "text": [
            "9650\n"
          ]
        }
      ]
    },
    {
      "cell_type": "markdown",
      "metadata": {
        "id": "uKol3je-fgJ1"
      },
      "source": [
        "## 2. Continuação\n",
        "\n",
        "Agora relacione as duas listas para printar 'O melhor mês do ano foi {} com {} vendas' e o mesmo para o pior mês do ano.\n",
        "\n",
        "Calcule também o faturamento total do Ano e quanto que o melhor mês representou do faturamento total.\n",
        "\n",
        "Obs: Para o faturamento total, pode usar a função sum(lista) que soma todos os itens de uma lista"
      ]
    },
    {
      "cell_type": "code",
      "execution_count": null,
      "metadata": {
        "colab": {
          "base_uri": "https://localhost:8080/"
        },
        "id": "8N3uSpKofgJ1",
        "outputId": "2c99ef2f-725e-45f2-8393-bd90b498ff55"
      },
      "outputs": [
        {
          "output_type": "stream",
          "name": "stdout",
          "text": [
            "10\n",
            "11\n",
            "O melhor mês do ano foi nov com 49051 vendas\n",
            "O pior mês do ano foi dez com 9650 vendas\n"
          ]
        }
      ],
      "source": [
        "i_maior_valor = vendas_total.index(maior_valor)\n",
        "i_menor_valor = vendas_total.index(valor_minim)\n",
        "\n",
        "print(i_maior_valor)\n",
        "print(i_menor_valor)\n",
        "\n",
        "print('O melhor mês do ano foi {} com {} vendas'.format(meses[i_maior_valor], maior_valor))\n",
        "print('O pior mês do ano foi {} com {} vendas'.format(meses[i_menor_valor], valor_minim))"
      ]
    },
    {
      "cell_type": "code",
      "source": [
        "fat_total = sum(vendas_total)\n",
        "\n",
        "print(fat_total)\n",
        "print('Faturamento Total: R${:,}'.format(fat_total))\n",
        "\n",
        "percentual = maior_valor/fat_total\n",
        "print(percentual)\n",
        "print('O melhor mês representou {:.1%} das vendas do ano'.format(percentual))"
      ],
      "metadata": {
        "colab": {
          "base_uri": "https://localhost:8080/"
        },
        "id": "8zE2W0VnvbTn",
        "outputId": "5b2d9fb3-b264-4149-fa49-62ef531de281"
      },
      "execution_count": null,
      "outputs": [
        {
          "output_type": "stream",
          "name": "stdout",
          "text": [
            "261486\n",
            "Faturamento Total: R$261,486\n",
            "0.18758556863464965\n",
            "O melhor mês representou 18.8% das vendas do ano\n"
          ]
        }
      ]
    },
    {
      "cell_type": "markdown",
      "metadata": {
        "id": "Oj6y6dTSfgJ2"
      },
      "source": [
        "\n",
        "top3 = []## 3. Crie uma lista com o top 3 valores de vendas do ano (sem fazer \"no olho\")\n",
        "\n",
        "Dica: o método remove retira um item da lista."
      ]
    },
    {
      "cell_type": "code",
      "execution_count": null,
      "metadata": {
        "id": "4noTKlc9fgJ2",
        "colab": {
          "base_uri": "https://localhost:8080/"
        },
        "outputId": "d627e45d-13da-4c0b-bf66-c872dc03da47"
      },
      "outputs": [
        {
          "output_type": "stream",
          "name": "stdout",
          "text": [
            "[25000, 29000, 22200, 17750, 15870, 19900, 19850, 20120, 17540, 15555, 49051, 9650]\n",
            "[25000, 29000, 22200, 17750, 15870, 19900, 19850, 20120, 17540, 15555, 9650]\n",
            "29000\n",
            "[25000, 22200, 17750, 15870, 19900, 19850, 20120, 17540, 15555, 9650]\n",
            "[49051, 29000, 25000]\n"
          ]
        }
      ],
      "source": [
        "top3 = []\n",
        "\n",
        "print(vendas_total)\n",
        "maior_valor = max(vendas_total)\n",
        "top3.append(maior_valor)\n",
        "\n",
        "\n",
        "vendas_total.remove(maior_valor)\n",
        "print(vendas_total)\n",
        "\n",
        "maior_valor = max(vendas_total)\n",
        "print(maior_valor)\n",
        "\n",
        "top3.append(maior_valor)\n",
        "vendas_total.remove(maior_valor)\n",
        "print(vendas_total)\n",
        "\n",
        "maior_valor = max(vendas_total)\n",
        "top3.append(maior_valor)\n",
        "\n",
        "print(top3)\n",
        "\n",
        "\n"
      ]
    }
  ],
  "metadata": {
    "kernelspec": {
      "display_name": "Python 3",
      "language": "python",
      "name": "python3"
    },
    "language_info": {
      "codemirror_mode": {
        "name": "ipython",
        "version": 3
      },
      "file_extension": ".py",
      "mimetype": "text/x-python",
      "name": "python",
      "nbconvert_exporter": "python",
      "pygments_lexer": "ipython3",
      "version": "3.8.3"
    },
    "colab": {
      "provenance": []
    }
  },
  "nbformat": 4,
  "nbformat_minor": 0
}